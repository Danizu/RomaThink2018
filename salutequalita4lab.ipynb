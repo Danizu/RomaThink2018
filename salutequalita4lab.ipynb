{
 "cells": [
  {
   "cell_type": "markdown",
   "metadata": {},
   "source": [
    "# Iniziamo il laboratorio!\n",
    "\n",
    "E' possibile costruire un sistema in grado di valutare la qualita' delle cure mediche erogate ai singoli pazienti?\n",
    "\n",
    "Iniziamo il laboratorio che ripercorre quanto realizzato da una societa' americana, la D2hawkeye,specializzata in analisi dati del settore medico. Siamo quindi nell'ambito del sistema sanitario USA basato sull'uso di assicurazioni sanitarie:\n",
    "il paziente si rivolge ad una struttura sanitaria per effettuare visite mediche, sottoporsi ad esami e terapie, ottenere la prescrizione dei farmaci adatti alla sua patologia; in una fase successiva, la struttura sanitaria si rivolgera' alla compagnia assicurativa del paziente per ottenere il rimborso dei costi sostenuti.\n",
    "\n",
    "Esaminando i dati relativi a queste richieste di rimborso, e' stato possibile mettere a punto un sistema capace di effettuare un assessment della qualita' del protocollo di cura applicato ai pazienti. \n",
    "Con il termine qualita' si intende una valutazione della cura applicata al paziente: gli esami, i farmaci,la cura e' da riternersi appropriata alla patologia del paziente? \n",
    "\n",
    "La Sanita' e' un ambito ricco di dati, dati che pero' sono complessi da gestire e per varie ragioni: \n",
    "\n",
    "* restrizioni di accesso ai dati legate a normative per la tutela della privacy\n",
    "* ampia dimensionalita' dei dati: si parla di migliaia di patologie, farmaci e protocolli di cura \n",
    "* presenza di dati non strutturati come ad esempio le annotazioni del personale medico \n",
    "* mancanza di standard e molteplicita' di piattaforme: strutture sanitarie diverse useranno standard e tecnologie diverse\n",
    "\n",
    "I dati che esaminiamo appartengono al mondo della sanita' USA.\n",
    "In particolare il dataset che utilizziamo proviene dalla D2hawkeye, una societa' specializzata nel settore sanitario, che gestisce le richieste di rimborso spese relative a pazienti assicurati, richieste che vengono inoltrate da personale medico o da Strutture Sanitarie per ottenere il pagamento di prestazioni/ricoveri.\n",
    "\n",
    "Effettuare un assessment sulla qualita' delle prestazioni mediche e del percorso di cura erogato ai pazienti, e' un processo importante per due ragioni:\n",
    "* la prima perche' consente di migliorare il protocollo di cura e di massimizzare la positiva risoluzione/evoluzione di alcune patologie\n",
    "* la seconda perche'consente di controllare i costi e di usare al meglio le risorse del sistema sanitario.\n",
    "Gli assessment di qualita' sono solitamente effettuati da personale medico che, usando le sue competenze, esamina i dati dei pazienti ed emette una sua valutazione. Si tratta di un processo manuale che richiede tempi lunghi e per questa ragione viene effettuato su un campione di pazienti.\n",
    "\n",
    "Andiamo quindi a mettere a punto un modello che esaminando i dati delle richieste rimborso costi si pone come obiettivo di potere effettuare un assessment su larga scala, esaminando i dati di milioni di pazienti in modo molto efficiente.\n",
    "\n",
    "Uno degli aspetti che la compagnia D2hawkeye ha dovuto affrontare e' stata la \"taggatura\" dei dati: le richiesta di rimborso costi sono gia' in forma elettronica ma sono poco accurate. Le richiesta sono compilate da personale medico e contengono informazioni come \n",
    "* codice della diagnosi \n",
    "* codice della prestazione\n",
    "* costo della prestazione\n",
    "\n",
    "L'operazione di taggatura consiste nell'esaminare il record di ogni singolo paziente e associare a questo una valutazione della qualita' alta o bassa, dove con qualita' si intende il grado di appropriatezza della cura applicata al paziente. \n",
    "\n",
    "Il dataset che andiamo ad esaminare rappresenta un campione di 131 pazienti diabetici, di eta' compresa tra 35 e 55 anni e con un costo sanitario compreso tra 10000$ e 20000$. Il file contiene dati relativi al periodo 2003-2005 e comprende il campo di taggatura che contiene un valore booleano per rappresentare una scarsa qualita' della cura: TRUE nel caso di scarsa qualita' e FALSE nel caso di buona qualita' della cura.\n",
    "\n",
    "\n",
    "Vediamo da vicino cosa e' il **Machine Learning** con questo semplice esercizio.\n",
    "Per fare questo scriveremo un programma. \n",
    "Il codice che scriveremo, pero', non avra' lo scopo di definire in forma di **source code** le regole in base alle quali rispondere a degli input. \n",
    "\n",
    "Al contrario il codice che scriveremo avra' lo scopo di imparare dai dati, rappresentazione di un'esperienza passata, come  rispondere agli input futuri. Il nostro codice sara' focalizzato sugli aspetti di lettura dati, sulla comprensione di quali parametri siano rilevanti per il problema e di quale sia il modello matematico migliore per effettuare apprendimento o meglio il training del programma.\n",
    "nel file di dati dovremo identificare:\n",
    "* una variabile del dataset che viene considerata dipendente, o target ,e sara' proprio questa variabile che il modello dovra'   \n",
    "  predire\n",
    "* un set di variabili indipendenti che saranno usate per determinare il valore della variabile dipendente \n",
    "\n",
    "Il notebook che andiamo a scrivere vuole mettere a punto un modello in grado di valutare la qualita' di un trattamento sanitario.\n",
    "\n",
    "\n",
    "Il nostro dataset di training si chiama quality.csv ed e' stato messo a punto dal MIT Professor Dimitris Bertsimas questa e' una reference alla pubblicazione:\n",
    "https://dl.acm.org/citation.cfm?id=1528038. \n",
    "\n",
    "Porta il file quality.csv su object storage parendo la sezione dati: puoi fare drag and drop oppure fai upload con browse. Troverai il file quality.csv anche nella sezione data asset.\n",
    "\n",
    "* Posizionati con il cursore nella cella sottostante\n",
    "\n",
    "* Apri il menu a fianco del file e scegli Insert to code e poi Insert R DataFrame.\n",
    "\n",
    "Verranno generate in automatico le chiamate REST per agganciare Cloud Object Storage con le tue credenziali.\n",
    "\n",
    "Viene poi preparata la  call per la lettura del file.\n",
    "\n",
    "* Dove compare **df.data.1** edita un nome piu' parlante per il dataset.\n",
    "\n",
    "* Cambia  df.data.1 con quality:\n",
    "   ** quality <- read.csv(text = rawToChar(obj$content))**\n",
    "   \n",
    "   ** head(quality) **\n",
    "\n",
    "* Con **CTLR-ENTER** esegui il codice contenuto nella cella.\n",
    "\n",
    "* Con **head(quality)** puoi vedere le prime righe del dataset e la riga di intestazione.\n",
    "\n",
    "\n",
    "\n"
   ]
  },
  {
   "cell_type": "code",
   "execution_count": null,
   "metadata": {},
   "outputs": [],
   "source": [
    "# The code was removed by for sharing\n",
    "\n",
    "quality <- read.csv(text = rawToChar(obj$content))\n",
    "head(quality)\n"
   ]
  },
  {
   "cell_type": "markdown",
   "metadata": {},
   "source": [
    "*****************************************************************************************************************************\n",
    "In un progetto di DataScience la parte piu' importante e anche piu' impegnativa e' rappresentata dalla esplorazione dei dati attraverso lo studio dei dataset e di conseguenza della loro cleaning o pulizia.\n",
    "\n",
    "Usando il linguaggio R ci sono molti comandi che ci aiutano a esplorare e conoscere il nostro dataset.\n",
    "\n",
    "Con **str(quality)** possiamo vedere quante righe sono presenti nel file, quante variabili abbiamo, il loro nome e il loro tipo\n"
   ]
  },
  {
   "cell_type": "code",
   "execution_count": null,
   "metadata": {},
   "outputs": [],
   "source": [
    "str(quality)"
   ]
  },
  {
   "cell_type": "markdown",
   "metadata": {},
   "source": [
    "Il nostro dataset rappresenta i record di 131 pazienti diabetici scelti a caso da una popolazione di diabetici con eta' compresa tra 35 e 55 anni, con costi sanitari associati compresi tra 10000 e  20000 dollari e relativa ad un intervallo temporale 2003-2005.\n",
    "Ogni riga del dataset e' relativa ad un paziente.\n",
    "Queste sono le variabili e il loro significato:\n",
    "\n",
    "* MemberID codice identificativo del paziente da 1 a 131.\n",
    "* InpatientDays e' il numero di visite di controllo o il numero di giorni di ricovero ospedaliero.\n",
    "* ERVisits numero di visite effettuate presso il pronto soccorso.\n",
    "* OfficeVisits numero di visite presso ambulatorio medico.\n",
    "* Narcotics numero di prescrizioni di analgesici.\n",
    "* DaysSinceLastERVisit numero di giorni tra l'ultima visita al Pronto Soccorso e la conclusione dell'indagine medica. \n",
    "* Pain numero di visite in cui il paziente lamenta per il suo disturbo.\n",
    "* TotalVisits totale visite effettuate presso strutture sanitarie.\n",
    "* ProviderCount numero di strutture che ha seguito il paziente.\n",
    "* MedicalClaims numero di giorni relativo alla richiesta di rimborso spese.\n",
    "* ClaimLines is the total number of medical claims.\n",
    "* StartedOnCombination variabile binaria (TRUE o FALSE) per rappresentare se e' gia' stato iniziato un trattamento farmacologico \n",
    "  per il diabete.\n",
    "* AcuteDrugGapSmall la percentuale di farmaci, per la fase acuta, che sono stati prescritti una seconda volta in uno stretto  \n",
    "  intervallo temporale.\n",
    "* PoorCare e' la variabile dipendente che vogliamo predire e rappresenta la qualita' del trattamento erogato al paziente. Questa \n",
    "  variabile assume il valore 1 nel caso di scarsa qualita', assume il valore 0 nel caso di buona qualita'.\n",
    "\n"
   ]
  },
  {
   "cell_type": "markdown",
   "metadata": {},
   "source": [
    "Il modello che andiamo a costruire dovra' effettuare una classificazione dei record paziente cioe' dovra' associare ad ogni record un valore discreto in questo caso VERO o FALSO riferito alla scarsa qualita' della cura a cui e' stato sottoposto il paziente specifico.\n",
    "Per costruire il modello usiamo una **Regressione Logistica** che ritorna le probabilita' associate ai valori della variabile indipendente PoorCare.\n",
    "\n",
    "PoorCare e' la nostra y, il target che vogliamo predire, ed assume i valori y=1 per rappresentare una scarsa qualita' e y=0 per rappresentare un'alta qualita'.\n",
    "Ragionando in termini di probabilita' avremo che : P(y=0)= 1-P(y=1)\n",
    "\n",
    "La Regressione Logistica riesce a collegare variabili che hanno una relazione non lineare. \n",
    "Ad esempio nel caso dei nostri dati, proviamo a fare un plot della feature OfficeVisits, cioe' il numero di visite in ambulatorio, versus \n",
    "Narcotics, cioe' antidolorifici, e mettiamo anche in evidenza PoorCare in rosso \n"
   ]
  },
  {
   "cell_type": "code",
   "execution_count": null,
   "metadata": {},
   "outputs": [],
   "source": [
    "plot(quality$OfficeVisits,quality$Narcotics,col=\"green\",pch=19 )\n",
    "points(quality$OfficeVisits[quality$PoorCare==1], quality$Narcotics[quality$PoorCare==1],col=\"red\",pch=19)"
   ]
  },
  {
   "cell_type": "markdown",
   "metadata": {},
   "source": [
    "E' difficile trovare una relazione tra il numero di visite in ambulatorio e le prescrizioni di antidolorifici.\n",
    "Quello che pero'si intravvede e' che un numero maggiore di prescrizioni di anestetici e un numero alto di visite in ambulatorio, si associano ad una piu bassa qualita' della cura del paziente.\n",
    "\n",
    "\n",
    "La rappresentazione matematica della Regressione Logistica e' la seguente:\n",
    "<img src=\"https://user-images.githubusercontent.com/17910093/43718952-995b443e-998c-11e8-93fa-982f27b36323.png\"  style=\"width: 500px\"/>\n",
    "Esaminando la funzione si puo' vedere che:\n",
    "* per un esponente >>0 la probabilita' tende a 1\n",
    "* per un esponente <<0 la probabilita' tende a 0.\n",
    "\n",
    "Per costruire il modello faremo il training della Regressione Logistica utilizando i dati del nostro file, e in questo modo andiamo a determinare i valori dei pesi (β0,β1,...,βn) della funzione.\n",
    "\n",
    "Nel caso della Regressione Logistica dobbiamo procedere in modo iterativo facendo convergere la funzione verso la soluzione ottimale.\n",
    "\n",
    "Nel nostro caso avremo che:\n",
    "valori alti di (β0,β1,...,βn) corrisponderanno ad una bassa qualita'\n",
    "valori bassi di (β0,β1,...,βn) corrisponderanno ad un'alta qualita'"
   ]
  },
  {
   "cell_type": "markdown",
   "metadata": {},
   "source": [
    "Andiamo a suddividere il dataset in una componente di training e in una componente di test.\n",
    "Avremo in particolare il 75% dei dati usati per il training e il restante 25% per il test"
   ]
  },
  {
   "cell_type": "code",
   "execution_count": null,
   "metadata": {},
   "outputs": [],
   "source": [
    "library(caTools)\n",
    "set.seed(88)\n",
    "spl=sample.split(quality$PoorCare,SplitRatio=0.75)"
   ]
  },
  {
   "cell_type": "code",
   "execution_count": null,
   "metadata": {},
   "outputs": [],
   "source": [
    "#Andiamo a vedere lo split\n",
    "spl"
   ]
  },
  {
   "cell_type": "code",
   "execution_count": null,
   "metadata": {},
   "outputs": [],
   "source": [
    "#creiamo i due dataset di training e di test\n",
    "\n",
    "qualitytrain=subset(quality,spl==TRUE)\n",
    "qualityTest=subset(quality,spl==FALSE)"
   ]
  },
  {
   "cell_type": "markdown",
   "metadata": {},
   "source": [
    "Andiamo a determinare la previsione di base, cioe' la regola del pollice.\n",
    "Trattandosi di una classificazione, la domanda che ci poniamo e': \"la qualita' di un percorso di  cura e' da considerarsi non soddisfacente oppure buono? \n",
    "Possiamo verificare quale delle due situazioni si verifica piu' frequentemente e decidere che questa e' la nostra predizione di default."
   ]
  },
  {
   "cell_type": "code",
   "execution_count": null,
   "metadata": {},
   "outputs": [],
   "source": [
    "table(qualitytrain$PoorCare)"
   ]
  },
  {
   "cell_type": "markdown",
   "metadata": {},
   "source": [
    "Guardando il risultato, fortunatamente ci sono molti piu casi di buona qualita' della cura applicata al paziente, piu' precisamente 74, rispetto ai casi di scarsa qualita' della cura, piu' precisamente 25. \n",
    "La baseline di riferimento per il nostro modello sara' prevedere che un caso e' un caso di buona sanita'.\n",
    "Dovremo quindi andare a migliorare la baseline che possiede un'accuratezza del 75%.\n",
    "\n",
    "Costruiamo il modello di Regressione Logistica per verificare quanto rappresentato nel grafico. \n",
    "Usiamo la funzione **glm** che sta per **generalized logistic regression** \n",
    "Specificando il parametro **family = binomial** \n",
    "diciamo a glm di produrre una Classificazione."
   ]
  },
  {
   "cell_type": "code",
   "execution_count": null,
   "metadata": {},
   "outputs": [],
   "source": [
    "qualityMdl=glm(PoorCare~ OfficeVisits+Narcotics, data=qualitytrain, family=binomial)"
   ]
  },
  {
   "cell_type": "code",
   "execution_count": null,
   "metadata": {},
   "outputs": [],
   "source": [
    "#verifichiamo la bonta' del modello ottenuto\n",
    "summary(qualityMdl)"
   ]
  },
  {
   "cell_type": "markdown",
   "metadata": {},
   "source": [
    "*****************************************************************************************************************************\n",
    "Esaminiamo il risultato del modello.\n",
    "\n",
    "* Per prima cosa vediamo la funzione che abbiamo utilizzato per creare il modello: PoorCare in funzione di OfficeVisits e Narcotics\n",
    "\n",
    "  Nella riga sottostante abbiamo la distribuzione dei Residuals, cioe' le differenze tra punti stimati e punti reali.\n",
    "\n",
    "* Di seguito abbiamo i coefficenti relativi alle variabili che abbiamo usato nel modello.\n",
    "\n",
    "* La colonna **ESTIMATE** rappresenta i valori dei coefficienti :\n",
    "\n",
    "* **Intercept** corrisponde a **β0**, mentre **OfficeVisits** corrisponde a **β1** e **Narcotics** corrisponde a **β2**\n",
    "\n",
    "\n",
    "Da summary si puo' vedere che entrambe le variabili sono significative per il modello.\n",
    "Il linguaggio R ci proppone in modo immediato questa valutazione usando gli asterischi a fianco del coefficiente. \n",
    "\n",
    "Si puo' vedere inoltre che i valori dei parametri sono entrambi positivi e questo corrisponde ad avere delle probabilita' di PoorCare, cioe' scarsa qualita', che tendono ad 1 al crescere dei valori delle variabili.\n",
    "Questo conferma quanto potevamo dedurre dal plot disegnato sopra che mostrava un maggiore numero di casi di trattamento sanitario non adeguato in corrispondeza di un maggiore numero di visite e di prescrizioni di analgesici.\n",
    "\n"
   ]
  },
  {
   "cell_type": "markdown",
   "metadata": {},
   "source": [
    "Andiamo a testare il modello sui dati di test e confrontiamo il valore di PoorCare predetto da quello reale contenuto nel dataset.\n",
    "Specifichiamo il parametro type=\"response\" con cui diciamo al modello di tornare delle probabilita'.\n"
   ]
  },
  {
   "cell_type": "code",
   "execution_count": null,
   "metadata": {},
   "outputs": [],
   "source": [
    "predictTrain=predict(qualityMdl,type=\"response\")\n",
    "#andiamo a vedere il risultato\n",
    "summary(predictTrain)"
   ]
  },
  {
   "cell_type": "markdown",
   "metadata": {},
   "source": [
    "I valori ottenuto eseguendo il modello sul dataset di test sono valori compresi tra 0 e 1. Questo e' corretto perche' avevamo richiesto delle probabilita'.\n",
    "In realta', pero', vorremmo ottenere una risposta di tipo binario: \n",
    "il paziente e' stato sottoposto ad una cura di scarsa qualita' o di buona qualita'?\n",
    "Dobbiamo quindi convertire le probabilita' in un valore binario indicativo di scarsa/buona qualita'.\n",
    "\n",
    "Per fare questo dobbiamo lavorare introducendo una soglia **t**:\n",
    "se la probabilita' P(PoorCare=1)>= t allora decidiamo che PoorCare=1 cioe' scarsa qualita'\n",
    "se la probabilita' P(PoorCare=1)< t allora decidiamo che PoorCare=0 cioe' buona qualita'\n",
    "\n"
   ]
  },
  {
   "cell_type": "markdown",
   "metadata": {},
   "source": [
    "Come determinare il valore di soglia?\n",
    "Per determinare quale valore di soglia selezionare occorre valutare quale tipo di errori possiamo e vogliamo accettare.\n",
    "Ovviamente possiamo pensare che non fare errori sia la cosa migliore ma nella realta' non fare errori e' impossibile.\n",
    "Quindi dobbiamo decidere se:\n",
    "* fare piu' errori stimando come buona qualita' quella che nella realta' si e' dimostrata una scarsa qualita'\n",
    "In questo caso siamo sicuri di identificare solo i pazienti con i casi peggiori in fatto assistenza sanitaria\n",
    "* fare piu' errori stimando come scarsa qualita' anche quella che in realta' e' stata una buona pratica\n",
    "in questo caso siamo sicuri di raccogliere tutti i pazienti che hanno ricevuto un percorso di cura non corretto\n",
    "\n",
    "Ricordiamo che stiamo applicando un valore di soglia a delle probabilita'.\n",
    "Se scelgo un valore t=0.5 non specifico alcuna preferenza sul tipo di errore.\n",
    "\n",
    "Quindi il trade-off che decide come trasformare la pura probabilita' in una categoria deve essere deciso dall'uomo, dal medico che possiede la giusta expertise.\n",
    "\n",
    "Quali sono i costi che vogliamo sostenere:\n",
    "** il costo di non rilevare dei positivi?\n",
    "oppure\n",
    "** il costo di sollevare dei falsi allarmi?\n"
   ]
  },
  {
   "cell_type": "markdown",
   "metadata": {},
   "source": [
    "Per rappresentare in modo quantitativo gli errori sui dati posso utilizzare la **matrice di confusione**\n"
   ]
  },
  {
   "cell_type": "code",
   "execution_count": null,
   "metadata": {},
   "outputs": [],
   "source": [
    "table(qualitytrain$PoorCare,predictTrain>0.5)"
   ]
  },
  {
   "cell_type": "markdown",
   "metadata": {},
   "source": [
    "Le righe rappresentano i valori reali associati all'indicatore PoorCare (ricordiamo 0 = buona qualita' e 1 = scarsa qualita').\n",
    "Le colonne rappresentano i valori predetti dal modello.\n",
    "Gli elementi diagonali sono quelli che abbiamo predetto correttamente.\n",
    "Questo consente di valutare l'**Accuratezza** del modello come **(TN+TP)/totale dati** ovvero\n",
    "**TN= True Negative** i veri negativi\n",
    "**TP= True Positive** i veri positivi\n",
    "\n",
    "In particolare mettiamo in evidenza\n",
    "quanto abbiamo predetto come **True Positive** in rapporto al totale reale dei positivi **TP/(TP+FN)** \n",
    "dove **FN= False Negative**\n",
    "quanto abbiamo predetto come **True Negative** in rapporto al totale reale dei negativi **TN/(TN+FP)** \n",
    "dove **FP= False Positive**\n",
    "\n",
    "Il primo valore si chiama **Sensitivita'**, il secondo valore e' la **Specificita'**.\n",
    "E' chiaro che se ho una Sensitivita' alta aumento la probabilita' di classificare come positivi dei falsi positivi.\n",
    "Se invece aumento la Specificita' aumento la probabilita' di classificare come negativi dei falsi negativi.\n",
    "\n",
    "La soglia quindi mi trasforma il risultato espresso intermini probabilistici in un risultato finale dove abbiamo operato una decisione in termini di classificazione. Questo potrebbe fare interpretare il risultato in modo erroneo come un **risultato falsamente deterministico**. Nella realta' abbiamo deciso che eventi con una probabilita' sopra una certa soglia, decidiamo di interpretarli in un certo modo, almeno fino ad evidenza del contrario.\n",
    "Cambiare la soglia, che trasforma la probabilita' in un risultato, significa modificare le corrispondenti sensitivita' e specificita'. \n",
    "\n",
    "Proviamo cambiando la soglia. \n",
    "Prova a costruire la matrice di classificazione per t=0.7 e poi per t=0.2\n"
   ]
  },
  {
   "cell_type": "code",
   "execution_count": null,
   "metadata": {},
   "outputs": [],
   "source": [
    "##inserisci qui il codice\n",
    "table(qualitytrain$PoorCare,predictTrain>0.7)\n"
   ]
  },
  {
   "cell_type": "code",
   "execution_count": null,
   "metadata": {},
   "outputs": [],
   "source": [
    "#calcola la sensitivita' e la specificita'\n",
    "#inserisci qui la sensitivita'\n",
    "#inserisci qui la specificita'"
   ]
  },
  {
   "cell_type": "code",
   "execution_count": null,
   "metadata": {},
   "outputs": [],
   "source": [
    "#Esegui lo stesso calcolo per t=0.2\n",
    "\n",
    "#inserisci qui il codice"
   ]
  },
  {
   "cell_type": "code",
   "execution_count": null,
   "metadata": {},
   "outputs": [],
   "source": [
    "#Valuta la corrispondente sensitivita' e specificita' "
   ]
  },
  {
   "cell_type": "markdown",
   "metadata": {},
   "source": [
    "Come scegliere quindi?\n",
    "Andiamo a valutare la curva **ROC Receiver Operator Characteristic curve** \n",
    "\n",
    "Con la curva ROC possiamo visualizzare andamento del rate di Veri Positivi, cioe' la Sensitivita', versus il rate di Falsi Positivi al variare della soglia di classificazione.\n",
    "Potremo avere un'immagine visuale del tradeoff tra sensitivita' e specificita' e quindi scegliere la soglia piu' adatta ai nostri obiettivi. \n",
    "\n",
    "Considerando i valori estremi per la soglia:\n",
    "se scelgo una soglia = 1, in questo caso non avro' positivi, quindi una sensitivita'= 0 ma anche il rate dei Falsi Positivi sara' =0. \n",
    "Sono quindi sono nel punto (0,0)\n",
    "se scelgo una soglia = 0, in questo caso avro' tutti positivi, quindi una Sensitivita'= 1 e anche il rate dei Falsi Positivi =1. \n",
    "Quindi in questo caso sono nel punto (1,1).\n",
    "\n",
    "Scegliero' il valore della soglia di classificazione in base a quali sono i costi che posso accettare per il mio modello:\n",
    "* il costo di fallire nel classificare correttamente un positivo\n",
    "* il costo di produrre dei falsi allarmi.\n",
    "\n",
    "Scegliero' quindi un valore di soglia: \n",
    "- molto basso per avere il massimo dei Falsi Positivi, se voglio essere certo di non mancare alcuno dei positivi.\n",
    "- intermedio in modo da avere il massimo rate dei veri positivi in corrispondenza di un basso rate dei falsi positivi, se la mia preoccupazione\n",
    "  e' avere un'alta Sensitivita'.\n",
    "\n",
    "L'andamento dei rate di Veri Positivi e Falsi Positivi con la soglia sara' migliore se il mio modello di classificazione e' stato bravo a separare le due classi di dati. In questo caso il valora dell'area sotto la curva ROC sara' prossimo ad 1.\n"
   ]
  },
  {
   "cell_type": "code",
   "execution_count": null,
   "metadata": {},
   "outputs": [],
   "source": [
    "install.packages(\"ROCR\")\n",
    "library(ROCR)\n"
   ]
  },
  {
   "cell_type": "code",
   "execution_count": null,
   "metadata": {},
   "outputs": [],
   "source": [
    "ROCRpred=prediction(predictTrain,qualitytrain$PoorCare)\n",
    "ROCRperf=performance(ROCRpred,\"tpr\",\"fpr\")\n",
    "plot(ROCRperf,colorize=TRUE,print.cutoffs.at= seq(0,1,0.1),text.adj= c(-0.2,1.7))"
   ]
  },
  {
   "cell_type": "markdown",
   "metadata": {},
   "source": [
    "Questa rappresentazione mostra l'andamento dei veri positivi e dei falsi positivi al variare della soglia t.\n",
    "I valori della soglia sono rappresentati con i colori e a destra compare la legenda.\n",
    "Nel punto (0,0), il valore di t=1 che corrisponde a non avere True positive e quindi la sensitivita' =0.\n",
    "Nel punto (1,1) il valore di t=0 e corrisponde ad avere tutti True positive e quindi sensitivita' =1.\n",
    "Il valore della soglia varia quindi da 1 in corrispondenza del punto (0,0) e decresce avvicinandosi al punto (1,1).\n",
    "Il valore di t viene riportato sulla curva ROC.\n",
    "\n",
    "Sceglieremo t in modo da avere il massimo dei true positive in corrispondenza di un basso valore di falsi positivi.\n",
    "Ad esempio nel punto (0,0.4) abbiamo un valore di t=0.6 e stiamo classificando correttamente il 40% dei casi di bassa qualita' mentre abbiamo un valore molto basso di falso positivi.\n",
    "Nel punto (0.6,0.9) classifico correttamente il 90% dei positivi ma ho anche un rate di falsi positivi di 60%.\n",
    "proviamo a scegliere t=0.3 e andiamo a testare il modello sui dati di test.\n"
   ]
  },
  {
   "cell_type": "code",
   "execution_count": null,
   "metadata": {},
   "outputs": [],
   "source": [
    "predictTest=predict(qualityMdl,type=\"response\",newdata=qualityTest)\n"
   ]
  },
  {
   "cell_type": "markdown",
   "metadata": {},
   "source": [
    "Andiamo a vedere nel file di test quale accuratezza si ottiene usando la predizione di tipo baseline, cioe' che  l'outcome e' quello di caso di buona qualita0 delle cure che sono state effettuate sul paziente.\n",
    "Questo valore sara la nostra predizione di base.\n"
   ]
  },
  {
   "cell_type": "code",
   "execution_count": null,
   "metadata": {},
   "outputs": [],
   "source": [
    "table(qualityTest$PoorCare)"
   ]
  },
  {
   "cell_type": "code",
   "execution_count": null,
   "metadata": {},
   "outputs": [],
   "source": [
    "#accuratezza di predire una buona qualita' e' pari a\n",
    "24/(24+8)"
   ]
  },
  {
   "cell_type": "markdown",
   "metadata": {},
   "source": [
    "Andiamo a valutare l'accuratezza ottenuta usando il modello"
   ]
  },
  {
   "cell_type": "code",
   "execution_count": null,
   "metadata": {},
   "outputs": [],
   "source": [
    "table(qualityTest$PoorCare,predictTest>=0.3)"
   ]
  },
  {
   "cell_type": "code",
   "execution_count": null,
   "metadata": {},
   "outputs": [],
   "source": [
    "(19+6)/nrow(qualityTest)"
   ]
  },
  {
   "cell_type": "markdown",
   "metadata": {},
   "source": [
    "Rispetto alla baseline, abbiamo quindi migliorato accuratezza del modello di 3 punti percentuali. \n",
    "Potrebbe sembrare un valore basso ma considerate che, secondo International Diabetes Federation, nel 2035 sono previsti nel mondo 595 milioni di persone diabetiche.\n",
    "Migliorare del 3% il tipo di trattamento per il paziente cronico diabetico, significa riuscire a trattare correttamente un numero pari a 17.85 milioni di pazienti diabetici che in caso contrario sarebbero oggetto di percorsi di cura non ottimali e costituirebbero un costo per i sistemi sanitari."
   ]
  }
 ],
 "metadata": {
  "kernelspec": {
   "display_name": "R with Spark 2.1",
   "language": "R",
   "name": "r-spark21"
  },
  "language_info": {
   "codemirror_mode": "r",
   "file_extension": ".r",
   "mimetype": "text/x-r-source",
   "name": "R",
   "pygments_lexer": "r",
   "version": "3.3.2"
  }
 },
 "nbformat": 4,
 "nbformat_minor": 1
}
